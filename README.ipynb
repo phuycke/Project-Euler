{
 "cells": [
  {
   "cell_type": "markdown",
   "metadata": {},
   "source": [
    "# Project Euler\n",
    "\n",
    "[![commits](https://img.shields.io/github/last-commit/phuycke/Project-Euler)](https://img.shields.io/github/last-commit/phuycke/Project-Euler)\n",
    "[![repo_size](https://img.shields.io/github/issues/phuycke/Practice-of-computing-using-Python)](https://img.shields.io/github/issues/phuycke/Practice-of-computing-using-Python)"
   ]
  },
  {
   "cell_type": "markdown",
   "metadata": {},
   "source": [
    "## Used folder structure   \n",
    "\n",
    "In this paragraph, we will quickly explain the folder structure that is used in this repository.\n",
    "\n",
    "---\n",
    "\n",
    "The folder is organized by following the organization of the book:\n",
    "\n",
    "- Part 2\n",
    "- Part 3\n",
    "- ...\n",
    "- Part 5\n",
    "\n",
    "With 'the book' referring to _'The practice of computing using Python 3'_, written by William Punch and Richard Enbody in 2011.   \n",
    "Within each _Part x_ folder, one can find several other folders.\n",
    "\n",
    "--- \n",
    "\n",
    "The aforementioned folders have the following lay-out:\n",
    "\n",
    "- Chapter xx\n",
    "- Chapter xx\n",
    "- ...\n",
    "- Chapter xx\n",
    "\n",
    "With xx being an integer. Note that '1' will be written as '01'. This was done to make the folder structure look cleaner. Also note that these folders refer to the chapters in the book, in line with the _Part x_ folders that referred to the parts described in the book. So, the directory _Chapter 01_ \n",
    "\n",
    "---\n",
    "\n",
    "Finally, within each chapter folder, another specific structure is enforced:\n",
    "\n",
    "- Exercises\n",
    "    - Used to store Python 3 code that is used to solve exercises\n",
    "        - Mind that this folder was created because some theory questions can only be solved using a Python project. Because these problems were not defined as _'programming projects'_, I kept them in a separate folder\n",
    "- Programming projects\n",
    "    - Used to store Python 3 code used to tackle the programming projects defined in that chapter"
   ]
  },
  {
   "cell_type": "markdown",
   "metadata": {},
   "source": [
    "## Programming environment   \n",
    "\n",
    "All programs were written using the software defined below.\n",
    "\n",
    "**Main software**\n",
    "\n",
    "- Python 3\n",
    "    \n",
    "#### Version control\n",
    "\n",
    "- Python 3\n",
    "    - **v3.7.3**\n",
    "- Anaconda\n",
    "    - **v4.7.10**\n",
    "- Spyder\n",
    "    - **v3.3.3**\n",
    "\n",
    "#### Operating system\n",
    "\n",
    "- Windows\n",
    "    - Windows 10\n",
    "        - version 1809\n",
    "    - 64-bit operating system\n",
    "\n",
    "#### Useful links\n",
    "\n",
    "- [Python 3.0 release page][py3]\n",
    "- The most recent version of Anaconda can be found [here][anaconda]\n",
    "\n",
    "[py3]: https://www.python.org/download/releases/3.0/\n",
    "[anaconda]: https://www.anaconda.com/distribution/"
   ]
  },
  {
   "cell_type": "markdown",
   "metadata": {},
   "source": [
    "## Contact\n",
    "\n",
    "Author: &nbsp;Pieter Huycke  \n",
    "\n",
    "Mail: &nbsp;&nbsp;&nbsp;&nbsp;&nbsp;[Pieter.Huycke@UGent.be](mailto:Pieter.Huycke@UGent.be)  \n",
    "GitHub: [@phuycke][GitHub]\n",
    "\n",
    "[GitHub]: https://github.com/phuycke\n",
    "\n",
    "PhD student @ [Verguts lab][Labsite].  \n",
    "\n",
    "[Labsite]: https://cogcomneurosci.com/\n",
    "\n",
    "---\n",
    "\n",
    "[Ghent University][UGent]   \n",
    "[Faculty of Psychology and Educational Sciences][Faculty]  \n",
    "[Department of Experimental Psychology][Department]  \n",
    "\n",
    "[UGent]:      https://www.ugent.be/en\n",
    "[Faculty]:    https://www.ugent.be/pp/en\n",
    "[Department]: https://www.ugent.be/pp/experimentele-psychologie/en/research\n",
    "\n",
    "Henri Dunantlaan 2  \n",
    "B-9000 Gent  \n",
    "\n",
    "Phone: +32 (0)9 264 64 07  \n",
    "Fax: &nbsp;&nbsp;&nbsp;&nbsp;+32 (0)9 264 64 96 "
   ]
  },
  {
   "cell_type": "markdown",
   "metadata": {},
   "source": [
    "**Last edit: 07-08-2019**"
   ]
  }
 ],
 "metadata": {
  "kernelspec": {
   "display_name": "Python 3",
   "language": "python",
   "name": "python3"
  },
  "language_info": {
   "codemirror_mode": {
    "name": "ipython",
    "version": 3
   },
   "file_extension": ".py",
   "mimetype": "text/x-python",
   "name": "python",
   "nbconvert_exporter": "python",
   "pygments_lexer": "ipython3",
   "version": "3.7.3"
  }
 },
 "nbformat": 4,
 "nbformat_minor": 2
}
