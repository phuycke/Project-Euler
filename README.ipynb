{
 "cells": [
  {
   "cell_type": "markdown",
   "metadata": {},
   "source": [
    "# Project Euler\n",
    "\n",
    "[![commits](https://img.shields.io/github/last-commit/phuycke/Project-Euler)](https://img.shields.io/github/last-commit/phuycke/Project-Euler)\n",
    "[![repo_size](https://img.shields.io/github/repo-size/phuycke/Project-Euler)](https://img.shields.io/github/repo-size/phuycke/Project-Euler)"
   ]
  },
  {
   "cell_type": "markdown",
   "metadata": {},
   "source": [
    "## What is this GitHub page about?   \n",
    "\n",
    "This GitHub page lists my solutions to the problems defined in the [Project Euler archives][archives].   \n",
    "All these solutions are written in Python 3, and every solution that is posted on this GitHub is able to find the correct solution.\n",
    "\n",
    "[archives]: https://projecteuler.net/archives"
   ]
  },
  {
   "cell_type": "markdown",
   "metadata": {},
   "source": [
    "## Folder structure\n",
    "\n",
    "In this paragraph, we will quickly explain the folder structure that is used in this repository.\n",
    "\n",
    "---\n",
    "\n",
    "There are **only two** folders in the root directory:\n",
    "\n",
    "- Code\n",
    "- Other\n",
    "\n",
    "### Code\n",
    "\n",
    "The **code** directory contains all the code that was used to solve the computational problems.   \n",
    "The file names indicate what problem was solved.\n",
    "In other words, [problem_1.py][prob_1_git] is a solution to ['Multiples of 3 and 5'][prob_1_euler], the first problem in a long row of problems defined in the Project Euler Archives.\n",
    "\n",
    "[prob_1_git]: https://github.com/phuycke/Project-Euler/blob/master/Code/problem_01.py\n",
    "[prob_1_euler]: https://projecteuler.net/problem=1\n",
    "\n",
    "### Other\n",
    "\n",
    "The **Other** directory contains extra information or data that is useful for solving the defined problems.   \n",
    "An example is [help_8.txt][help_8_git], which is an exact representation of the numbers depicted in [problem 8][prob_8_euler].\n",
    "\n",
    "[help_8_git]: https://github.com/phuycke/Project-Euler/blob/master/help_files/help_08.txt\n",
    "[prob_8_euler]: https://projecteuler.net/problem=8"
   ]
  },
  {
   "cell_type": "markdown",
   "metadata": {},
   "source": [
    "\n",
    "## Programming environment   \n",
    "\n",
    "All programs were written using the software defined below.\n",
    "\n",
    "**Main software**\n",
    "\n",
    "- Python 3\n",
    "    \n",
    "#### Version control\n",
    "\n",
    "- Python 3\n",
    "    - **v3.7.3**\n",
    "- Anaconda\n",
    "    - **v4.7.10**\n",
    "- Spyder\n",
    "    - **v3.3.3**\n",
    "\n",
    "#### Operating system\n",
    "\n",
    "- Windows\n",
    "    - Windows 10\n",
    "        - version 1809\n",
    "    - 64-bit operating system\n",
    "\n",
    "#### Useful links\n",
    "\n",
    "- [Python 3.0 release page][py3]\n",
    "- The most recent version of Anaconda can be found [here][anaconda]\n",
    "\n",
    "[py3]: https://www.python.org/download/releases/3.0/\n",
    "[anaconda]: https://www.anaconda.com/distribution/"
   ]
  },
  {
   "cell_type": "markdown",
   "metadata": {},
   "source": [
    "## Contact\n",
    "\n",
    "### Project Euler\n",
    "\n",
    "![title](https://projecteuler.net/profile/flyinthelotion.png)\n",
    "\n",
    "### Real world\n",
    "\n",
    "Author: &nbsp;Pieter Huycke  \n",
    "\n",
    "Mail: &nbsp;&nbsp;&nbsp;&nbsp;&nbsp;[Pieter.Huycke@UGent.be](mailto:Pieter.Huycke@UGent.be)  \n",
    "GitHub: [@phuycke][GitHub]\n",
    "\n",
    "[GitHub]: https://github.com/phuycke\n",
    "\n",
    "PhD student @ [Verguts lab][Labsite].  \n",
    "\n",
    "[Labsite]: https://cogcomneurosci.com/\n",
    "\n",
    "---\n",
    "\n",
    "[Ghent University][UGent]   \n",
    "[Faculty of Psychology and Educational Sciences][Faculty]  \n",
    "[Department of Experimental Psychology][Department]  \n",
    "\n",
    "[UGent]:      https://www.ugent.be/en\n",
    "[Faculty]:    https://www.ugent.be/pp/en\n",
    "[Department]: https://www.ugent.be/pp/experimentele-psychologie/en/research\n",
    "\n",
    "Henri Dunantlaan 2  \n",
    "B-9000 Gent  \n",
    "\n",
    "Phone: +32 (0)9 264 64 07  \n",
    "Fax: &nbsp;&nbsp;&nbsp;&nbsp;+32 (0)9 264 64 96 "
   ]
  },
  {
   "cell_type": "markdown",
   "metadata": {},
   "source": [
    "**Last edit: 07-08-2019**"
   ]
  }
 ],
 "metadata": {
  "kernelspec": {
   "display_name": "Python 3",
   "language": "python",
   "name": "python3"
  },
  "language_info": {
   "codemirror_mode": {
    "name": "ipython",
    "version": 3
   },
   "file_extension": ".py",
   "mimetype": "text/x-python",
   "name": "python",
   "nbconvert_exporter": "python",
   "pygments_lexer": "ipython3",
   "version": "3.7.3"
  }
 },
 "nbformat": 4,
 "nbformat_minor": 2
}
